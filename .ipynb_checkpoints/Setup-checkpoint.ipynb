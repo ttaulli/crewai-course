{
 "cells": [
  {
   "cell_type": "markdown",
   "id": "7bf7558d-7a6f-4cbc-8c75-3a87efcf9717",
   "metadata": {},
   "source": [
    "# Setting Up CrewAI"
   ]
  },
  {
   "cell_type": "code",
   "execution_count": null,
   "id": "8569ad6b-9794-4539-9289-2f2020c53804",
   "metadata": {},
   "outputs": [],
   "source": []
  }
 ],
 "metadata": {
  "kernelspec": {
   "display_name": "Python 3 (ipykernel)",
   "language": "python",
   "name": "python3"
  },
  "language_info": {
   "codemirror_mode": {
    "name": "ipython",
    "version": 3
   },
   "file_extension": ".py",
   "mimetype": "text/x-python",
   "name": "python",
   "nbconvert_exporter": "python",
   "pygments_lexer": "ipython3",
   "version": "3.12.4"
  }
 },
 "nbformat": 4,
 "nbformat_minor": 5
}
