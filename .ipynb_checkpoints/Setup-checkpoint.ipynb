{
 "cells": [
  {
   "cell_type": "markdown",
   "id": "7bf7558d-7a6f-4cbc-8c75-3a87efcf9717",
   "metadata": {},
   "source": [
    "# Setting Up CrewAI"
   ]
  },
  {
   "cell_type": "code",
   "execution_count": 13,
   "id": "8569ad6b-9794-4539-9289-2f2020c53804",
   "metadata": {},
   "outputs": [],
   "source": [
    "# pip install crewai\n",
    "# !pip install crewai --upgrade"
   ]
  },
  {
   "cell_type": "code",
   "execution_count": null,
   "id": "43504b61-863f-46f6-9a74-41b180c1db66",
   "metadata": {},
   "outputs": [],
   "source": [
    "# pip install crewai crewai-tools"
   ]
  },
  {
   "cell_type": "code",
   "execution_count": 14,
   "id": "50c65a06-e943-4d2a-b304-f708bce04328",
   "metadata": {},
   "outputs": [],
   "source": [
    "import openai\n",
    "import os\n",
    "import getpass"
   ]
  },
  {
   "cell_type": "code",
   "execution_count": 15,
   "id": "d1661ecc-b202-45dd-97f8-679dedda8345",
   "metadata": {},
   "outputs": [
    {
     "name": "stdin",
     "output_type": "stream",
     "text": [
      "Enter your OpenAI API key:  ········\n"
     ]
    }
   ],
   "source": [
    "os.environ[\"OPENAI_API_KEY\"] = getpass.getpass(\"Enter your OpenAI API key: \")"
   ]
  },
  {
   "cell_type": "code",
   "execution_count": 16,
   "id": "9a992ebf-c114-49ae-a91a-94454fe7987c",
   "metadata": {},
   "outputs": [],
   "source": [
    "# Import necessary modules from CrewAI\n",
    "from crewai import Agent, Task, Crew"
   ]
  },
  {
   "cell_type": "code",
   "execution_count": null,
   "id": "ef1cf6d6-8168-4524-aa84-283d781088c9",
   "metadata": {},
   "outputs": [],
   "source": [
    "designer = Agent(\n",
    "    role=\"Feature Designer\",\n",
    "    goal=\"Design a user-friendly and technically feasible feature on {feature_name}\",\n",
    "    backstory=\"You're responsible for designing a new feature called {feature_name}.\"\n",
    "              \"Your goal is to create a feature that addresses user needs \"\n",
    "              \"while considering the technical constraints. \"\n",
    "              \"Your work will serve as the blueprint for \"\n",
    "              \"the Developer to implement this feature.\",\n",
    "    allow_delegation=False,\n",
    "    verbose=True\n",
    ")"
   ]
  },
  {
   "cell_type": "code",
   "execution_count": null,
   "id": "eafd69e7-e022-4b5c-8acf-6a2f3ac2cdd2",
   "metadata": {},
   "outputs": [],
   "source": [
    "developer = Agent(\n",
    "    role=\"Developer\",\n",
    "    goal=\"Implement the feature {feature_name} based on the design provided.\",\n",
    "    backstory=\"You're responsible for coding and implementing the new feature: {feature_name}. \"\n",
    "              \"You base your work on the design and specifications provided by \"\n",
    "              \"the Feature Designer. \"\n",
    "              \"Your goal is to ensure the feature works as intended, \"\n",
    "              \"is efficient, and follows best practices in coding.\",\n",
    "    allow_delegation=False,\n",
    "    verbose=True\n",
    ")"
   ]
  },
  {
   "cell_type": "code",
   "execution_count": null,
   "id": "4bb12e3e-e50b-4801-a28e-b502504d6220",
   "metadata": {},
   "outputs": [],
   "source": [
    "tester = Agent(\n",
    "    role=\"Quality Assurance Tester\",\n",
    "    goal=\"Test the feature {feature_name} to ensure it functions correctly and meets requirements.\",\n",
    "    backstory=\"You are a QA Tester who receives the implemented feature {feature_name} \"\n",
    "              \"from the Developer. \"\n",
    "              \"Your goal is to test the feature thoroughly, \"\n",
    "              \"identify any bugs, and ensure it meets the design and functionality requirements.\",\n",
    "    allow_delegation=False,\n",
    "    verbose=True\n",
    ")"
   ]
  },
  {
   "cell_type": "code",
   "execution_count": null,
   "id": "c6942a58-53a4-4835-9837-e811ed98effd",
   "metadata": {},
   "outputs": [],
   "source": [
    "design_task = Task(\n",
    "    description=(\n",
    "        \"1. Analyze user needs and gather requirements for {feature_name}.\\n\"\n",
    "        \"2. Create wireframes and a detailed design document.\\n\"\n",
    "        \"3. Ensure the design is user-friendly and technically feasible.\\n\"\n",
    "        \"4. Include any necessary technical specifications and user flow diagrams.\"\n",
    "    ),\n",
    "    expected_output=\"A comprehensive design document with wireframes, \"\n",
    "                    \"user flow diagrams, and technical specifications.\",\n",
    "    agent=designer,\n",
    ")\n"
   ]
  },
  {
   "cell_type": "code",
   "execution_count": null,
   "id": "db59a3d3-9ac7-428f-a75c-67f5a628b6dc",
   "metadata": {},
   "outputs": [],
   "source": [
    "develop_task = Task(\n",
    "    description=(\n",
    "        \"1. Use the design document to code and implement the feature {feature_name}.\\n\"\n",
    "        \"2. Ensure the code follows best practices and is efficient.\\n\"\n",
    "        \"3. Write unit tests and documentation for the feature.\\n\"\n",
    "        \"4. Conduct a basic test to ensure the feature works as expected.\"\n",
    "    ),\n",
    "    expected_output=\"A fully implemented feature {feature_name} \"\n",
    "                    \"with associated unit tests and documentation.\",\n",
    "    agent=developer,\n",
    ")"
   ]
  },
  {
   "cell_type": "code",
   "execution_count": null,
   "id": "94f374ba-7115-46e4-95f3-71a4de14208c",
   "metadata": {},
   "outputs": [],
   "source": [
    "test_task = Task(\n",
    "    description=(\n",
    "        \"1. Test the feature {feature_name} thoroughly to ensure it meets the design requirements.\\n\"\n",
    "        \"2. Identify and document any bugs or issues.\\n\"\n",
    "        \"3. Verify the feature's performance under different scenarios.\\n\"\n",
    "        \"4. Provide feedback on any improvements or changes needed.\"\n",
    "    ),\n",
    "    expected_output=\"A detailed test report with identified issues, \"\n",
    "                    \"recommendations for improvement, and confirmation that the feature meets the requirements.\",\n",
    "    agent=tester\n",
    ")\n"
   ]
  },
  {
   "cell_type": "code",
   "execution_count": null,
   "id": "8c26db69-68de-4728-9684-ea1d79114e38",
   "metadata": {},
   "outputs": [],
   "source": [
    "crew = Crew(\n",
    "    agents=[designer, developer, tester],\n",
    "    tasks=[design_task, develop_task, test_task],\n",
    "    verbose=True\n",
    ")"
   ]
  },
  {
   "cell_type": "code",
   "execution_count": null,
   "id": "5f1e8957-1929-439e-aa81-45e58e3a01f1",
   "metadata": {},
   "outputs": [],
   "source": [
    "result = crew.kickoff(inputs={\"feature_name\": \"Smart Notifications\"})"
   ]
  },
  {
   "cell_type": "code",
   "execution_count": null,
   "id": "385190df-af2e-444a-8a19-85b2ecd5267a",
   "metadata": {},
   "outputs": [],
   "source": []
  }
 ],
 "metadata": {
  "kernelspec": {
   "display_name": "Python 3 (ipykernel)",
   "language": "python",
   "name": "python3"
  },
  "language_info": {
   "codemirror_mode": {
    "name": "ipython",
    "version": 3
   },
   "file_extension": ".py",
   "mimetype": "text/x-python",
   "name": "python",
   "nbconvert_exporter": "python",
   "pygments_lexer": "ipython3",
   "version": "3.12.4"
  }
 },
 "nbformat": 4,
 "nbformat_minor": 5
}
