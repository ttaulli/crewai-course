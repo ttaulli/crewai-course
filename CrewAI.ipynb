{
 "cells": [
  {
   "cell_type": "markdown",
   "id": "186327a2-1056-4a7c-bd4f-841ada04c83a",
   "metadata": {},
   "source": [
    "# CrewAI"
   ]
  },
  {
   "cell_type": "code",
   "execution_count": null,
   "id": "5a8b34c6-368f-49e4-bc0b-a4d14dab79d6",
   "metadata": {},
   "outputs": [],
   "source": [
    "# pip install openai\n",
    "# !pip install --upgrade crewai\n",
    "# !pip install crewai crewai-tools"
   ]
  },
  {
   "cell_type": "code",
   "execution_count": null,
   "id": "4688cb84-ec43-4f44-b161-7dead13f2b3d",
   "metadata": {
    "scrolled": true
   },
   "outputs": [],
   "source": [
    "import openai\n",
    "import os\n",
    "import getpass"
   ]
  },
  {
   "cell_type": "code",
   "execution_count": null,
   "id": "9b353827-79b7-4107-8aed-0a2ee73e236c",
   "metadata": {},
   "outputs": [],
   "source": [
    "os.environ[\"OPENAI_API_KEY\"] = getpass.getpass(\"Enter your OpenAI API key: \")"
   ]
  },
  {
   "cell_type": "code",
   "execution_count": null,
   "id": "f26666cb-c646-4cee-8fc2-40a2aaa3054b",
   "metadata": {},
   "outputs": [],
   "source": [
    "from crewai import Agent, Task, Crew"
   ]
  },
  {
   "cell_type": "code",
   "execution_count": null,
   "id": "53809bef-ba86-4446-920a-ba32d58eb620",
   "metadata": {},
   "outputs": [],
   "source": [
    "budgeting_agent = Agent(\n",
    "    role=\"Budgeting Advisor\",\n",
    "    goal=\"Create a monthly budget to help users manage their income and expenses effectively.\",\n",
    "    backstory=(\n",
    "        \"You are an experienced financial advisor specializing in personal finance. \"\n",
    "        \"Your goal is to help users allocate their income efficiently, ensuring they cover \"\n",
    "        \"all necessary expenses while also saving for the future.\"\n",
    "    ),\n",
    "    allow_delegation=False,\n",
    "    verbose=True\n",
    ")\n"
   ]
  },
  {
   "cell_type": "code",
   "execution_count": null,
   "id": "1fae822f-9566-4d6d-a95b-bd812e266514",
   "metadata": {},
   "outputs": [],
   "source": [
    "investment_agent = Agent(\n",
    "    role=\"Investment Advisor\",\n",
    "    goal=\"Recommend suitable investment options based on the user's financial goals and risk tolerance.\",\n",
    "    backstory=(\n",
    "        \"You are an investment expert with years of experience in the financial markets. \"\n",
    "        \"Your goal is to help users grow their wealth by providing sound investment advice \"\n",
    "        \"tailored to their risk tolerance and financial objectives.\"\n",
    "    ),\n",
    "    allow_delegation=False,\n",
    "    verbose=True\n",
    ")\n"
   ]
  },
  {
   "cell_type": "code",
   "execution_count": null,
   "id": "3d29479d-2eed-4cfe-b74a-1f8335415f41",
   "metadata": {},
   "outputs": [],
   "source": [
    "debt_management_agent = Agent(\n",
    "    role=\"Debt Management Specialist\",\n",
    "    goal=\"Help users manage and reduce their debt through effective strategies.\",\n",
    "    backstory=(\n",
    "        \"You specialize in helping individuals overcome debt by creating personalized repayment plans. \"\n",
    "        \"Your focus is on reducing interest payments and improving the user's financial health.\"\n",
    "    ),\n",
    "    allow_delegation=False,\n",
    "    verbose=True\n",
    ")\n"
   ]
  },
  {
   "cell_type": "code",
   "execution_count": null,
   "id": "5220f98a-8a2f-4a6f-ab9e-db645d6bb234",
   "metadata": {},
   "outputs": [],
   "source": [
    "budgeting_task = Task(\n",
    "    description=(\n",
    "        \"1. Analyze the user's income and expenses.\\n\"\n",
    "        \"2. Create a detailed monthly budget that includes essential expenses, savings, and discretionary spending.\\n\"\n",
    "        \"3. Provide tips for optimizing spending and increasing savings.\"\n",
    "    ),\n",
    "    expected_output=\"A comprehensive monthly budget with recommendations for optimizing spending and savings.\",\n",
    "    agent=budgeting_agent\n",
    ")\n"
   ]
  },
  {
   "cell_type": "code",
   "execution_count": null,
   "id": "996c412d-51ee-408e-9de6-d1f93f95873f",
   "metadata": {},
   "outputs": [],
   "source": [
    "investment_task = Task(\n",
    "    description=(\n",
    "        \"1. Assess the user's financial goals and risk tolerance.\\n\"\n",
    "        \"2. Recommend suitable investment options such as stocks, bonds, mutual funds, or ETFs.\\n\"\n",
    "        \"3. Provide a brief overview of each recommended investment's potential risks and returns.\"\n",
    "    ),\n",
    "    expected_output=\"A personalized investment plan with recommendations and risk assessments.\",\n",
    "    agent=investment_agent\n",
    ")\n"
   ]
  },
  {
   "cell_type": "code",
   "execution_count": null,
   "id": "c4421131-7815-47ca-b1f9-7b5a7e27461e",
   "metadata": {},
   "outputs": [],
   "source": [
    "debt_management_task = Task(\n",
    "    description=(\n",
    "        \"1. Analyze the user's current debts, including interest rates and balances.\\n\"\n",
    "        \"2. Develop a repayment plan that prioritizes high-interest debt and suggests strategies for paying off balances faster.\\n\"\n",
    "        \"3. Provide advice on consolidating debt or negotiating lower interest rates.\"\n",
    "    ),\n",
    "    expected_output=\"A debt management plan with actionable steps to reduce and eliminate debt.\",\n",
    "    agent=debt_management_agent\n",
    ")\n"
   ]
  },
  {
   "cell_type": "code",
   "execution_count": null,
   "id": "1a6ecc6b-8d7f-4e78-8ed7-4efe9e282841",
   "metadata": {},
   "outputs": [],
   "source": [
    "crew = Crew(\n",
    "    agents=[budgeting_agent, investment_agent, debt_management_agent],\n",
    "    tasks=[budgeting_task, investment_task, debt_management_task],\n",
    "    verbose=True  # Set to True for detailed logging or False to reduce output\n",
    ")\n",
    "\n"
   ]
  },
  {
   "cell_type": "code",
   "execution_count": null,
   "id": "40de9f11-5915-46a6-a34d-8b18022651f3",
   "metadata": {},
   "outputs": [],
   "source": [
    "user_financial_data = {\n",
    "    \"income\": 5000,  # Monthly income in dollars\n",
    "    \"expenses\": {\n",
    "        \"rent\": 1500,\n",
    "        \"utilities\": 300,\n",
    "        \"groceries\": 400,\n",
    "        \"transportation\": 200,\n",
    "        \"entertainment\": 150,\n",
    "        \"other\": 450\n",
    "    },\n",
    "    \"debts\": {\n",
    "        \"credit_card\": {\n",
    "            \"balance\": 2000,\n",
    "            \"interest_rate\": 0.18  # 18% interest rate\n",
    "        },\n",
    "        \"student_loan\": {\n",
    "            \"balance\": 15000,\n",
    "            \"interest_rate\": 0.045  # 4.5% interest rate\n",
    "        }\n",
    "    },\n",
    "    \"savings_goal\": 500  # Monthly savings goal in dollars\n",
    "}\n",
    "\n",
    "# Now run the crew kickoff with the defined data\n",
    "result = crew.kickoff(inputs=user_financial_data)\n",
    "\n",
    "# Extract the raw text from the result\n",
    "raw_result = result.raw\n",
    "\n",
    "# Display the result as markdown\n",
    "from IPython.display import Markdown\n",
    "Markdown(raw_result)\n",
    "\n",
    " \n",
    "\n",
    "\n"
   ]
  },
  {
   "cell_type": "markdown",
   "id": "7698aa78-044d-4868-83d1-a2101dea3642",
   "metadata": {},
   "source": [
    "# New Product Launch"
   ]
  },
  {
   "cell_type": "code",
   "execution_count": null,
   "id": "174e8425-278a-4b69-9897-51d9f2da943a",
   "metadata": {},
   "outputs": [],
   "source": [
    "from crewai_tools import ScrapeWebsiteTool, SerperDevTool\n",
    "from pydantic import BaseModel"
   ]
  },
  {
   "cell_type": "code",
   "execution_count": null,
   "id": "a284d62d-f56d-46a7-9a10-4db1ebbdf834",
   "metadata": {},
   "outputs": [],
   "source": [
    "os.environ[\"SERPER_API_KEY\"] = getpass.getpass(\"Enter your OpenAI API key: \")"
   ]
  },
  {
   "cell_type": "code",
   "execution_count": null,
   "id": "928e0c93-0c55-4037-8c3a-5987cc8ff52f",
   "metadata": {},
   "outputs": [],
   "source": [
    "search_tool = SerperDevTool()\n",
    "scrape_tool = ScrapeWebsiteTool()"
   ]
  },
  {
   "cell_type": "code",
   "execution_count": null,
   "id": "7a8fdb3b-e050-4111-869d-1456a1dfc42b",
   "metadata": {},
   "outputs": [],
   "source": [
    "market_researcher = Agent(\n",
    "    role=\"Market Researcher\",\n",
    "    goal=\"Conduct thorough market research to identify target demographics and competitors.\",\n",
    "    tools=[search_tool, scrape_tool],\n",
    "    verbose=True,\n",
    "    backstory=(\n",
    "        \"Analytical and detail-oriented, you excel at gathering insights about the market, \"\n",
    "        \"analyzing competitors, and identifying the best strategies to target the desired audience.\"\n",
    "    )\n",
    ")\n"
   ]
  },
  {
   "cell_type": "code",
   "execution_count": null,
   "id": "9fcd443a-cabf-496f-9f54-c2a78f35e513",
   "metadata": {},
   "outputs": [],
   "source": [
    "content_creator = Agent(\n",
    "    role='Content Creator',\n",
    "    goal=\"Develop engaging content for the product launch, including blogs, social media posts, and videos.\",\n",
    "    tools=[search_tool, scrape_tool],\n",
    "    verbose=True,\n",
    "    backstory=(\n",
    "        \"Creative and persuasive, you craft content that resonates with the audience, \"\n",
    "        \"driving engagement and excitement for the product launch.\"\n",
    "    )\n",
    ")\n"
   ]
  },
  {
   "cell_type": "code",
   "execution_count": null,
   "id": "5ca5274e-9612-449d-b6eb-bc85e4191f14",
   "metadata": {},
   "outputs": [],
   "source": [
    "pr_outreach_specialist = Agent(\n",
    "    role=\"PR and Outreach Specialist\",\n",
    "    goal=\"Reach out to influencers, media outlets, and key opinion leaders to promote the product launch.\",\n",
    "    tools=[search_tool, scrape_tool],\n",
    "    verbose=True,\n",
    "    backstory=(\n",
    "        \"With strong networking skills, you connect with influencers and media outlets to ensure \"\n",
    "        \"the product launch gains maximum visibility and coverage.\"\n",
    "    )\n",
    ")\n"
   ]
  },
  {
   "cell_type": "code",
   "execution_count": null,
   "id": "def6d005-9095-460c-b6a8-168947666e4f",
   "metadata": {},
   "outputs": [],
   "source": [
    "class MarketResearchData(BaseModel):\n",
    "    target_demographics: str\n",
    "    competitor_analysis: str\n",
    "    key_findings: str\n"
   ]
  },
  {
   "cell_type": "code",
   "execution_count": null,
   "id": "ef24cc7c-7bf6-41c8-bd32-85aaf97db98d",
   "metadata": {},
   "outputs": [],
   "source": [
    "market_research_task = Task(\n",
    "    description=\"Conduct market research for the {product_name} launch, focusing on target demographics and competitors.\",\n",
    "    expected_output=\"A detailed report on market research findings, including target demographics and competitor analysis.\",\n",
    "    human_input=True,\n",
    "    output_json=MarketResearchData,\n",
    "    output_file=\"market_research.json\",\n",
    "    agent=market_researcher\n",
    ")\n"
   ]
  },
  {
   "cell_type": "code",
   "execution_count": null,
   "id": "a67514d1-4e86-4e2b-8475-2d60b1542792",
   "metadata": {},
   "outputs": [],
   "source": [
    "content_creation_task = Task(\n",
    "    description=\"Create content for the {product_name} launch, including blog posts, social media updates, and promotional videos.\",\n",
    "    expected_output=\"A collection of content pieces ready for publication.\",\n",
    "    human_input=True,\n",
    "    async_execution=False,  # Change to synchronous\n",
    "    output_file=\"content_plan.txt\",\n",
    "    agent=content_creator\n",
    ")\n",
    "\n"
   ]
  },
  {
   "cell_type": "code",
   "execution_count": null,
   "id": "75cb6258-2c34-4778-8299-453eb17515a1",
   "metadata": {},
   "outputs": [],
   "source": [
    "pr_outreach_task = Task(\n",
    "    description=\"Contact influencers, media outlets, and key opinion leaders to promote the {product_name} launch.\",\n",
    "    expected_output=\"A report on outreach efforts, including responses from influencers and media coverage.\",\n",
    "    async_execution=False,  # Change to synchronous\n",
    "    output_file=\"outreach_report.md\",\n",
    "    agent=pr_outreach_specialist\n",
    ")\n",
    "\n"
   ]
  },
  {
   "cell_type": "code",
   "execution_count": null,
   "id": "1e6faf5a-71f2-46fe-8057-21d664b3fb1d",
   "metadata": {},
   "outputs": [],
   "source": [
    "product_launch_crew = Crew(\n",
    "    agents=[market_researcher, content_creator, pr_outreach_specialist],\n",
    "    tasks=[market_research_task, content_creation_task, pr_outreach_task],  # Ensure only one async task is at the end\n",
    "    verbose=True\n",
    ")\n"
   ]
  },
  {
   "cell_type": "code",
   "execution_count": null,
   "id": "0315d835-ff68-483b-87d8-7ba19216ed27",
   "metadata": {},
   "outputs": [],
   "source": [
    "launch_details = {\n",
    "    'product_name': \"SmartHome 360\",\n",
    "    'product_description': \"A cutting-edge smart home system that integrates with all your devices.\",\n",
    "    'launch_date': \"2024-10-01\",\n",
    "    'target_market': \"Tech-savvy homeowners\",\n",
    "    'budget': 50000\n",
    "}\n",
    "\n",
    "result = product_launch_crew.kickoff(inputs=launch_details)\n"
   ]
  },
  {
   "cell_type": "code",
   "execution_count": null,
   "id": "69786c61-34c9-4180-a1c2-0dd535d50272",
   "metadata": {},
   "outputs": [],
   "source": [
    "import json \n",
    "from pprint import pprint  \n",
    "from IPython.display import Markdown  # Add this line to import the Markdown function\n",
    "\n",
    "# Display the generated market_research.json file\n",
    "with open('market_research.json') as f:\n",
    "   data = json.load(f)\n",
    "pprint(data)\n",
    "\n",
    "# Display the generated content_plan.txt file\n",
    "with open('content_plan.txt') as f:\n",
    "    content = f.read()\n",
    "print(content)\n",
    "\n",
    "# Display the generated outreach_report.md file\n",
    "Markdown(\"outreach_report.md\")\n"
   ]
  },
  {
   "cell_type": "markdown",
   "id": "7212ffa2-cd6a-4bf7-9646-b820359dec4b",
   "metadata": {},
   "source": [
    "# RAG"
   ]
  },
  {
   "cell_type": "code",
   "execution_count": null,
   "id": "91dd4590-8340-4818-bbd7-e01d49336fa3",
   "metadata": {},
   "outputs": [],
   "source": [
    "from crewai import Agent, Task, Crew, Process\n",
    "from crewai_tools import WebsiteSearchTool\n",
    "\n",
    "# Step 1: Configure the WebsiteSearchTool with the specific website URL\n",
    "search_tool = WebsiteSearchTool(website='https://en.wikipedia.org/wiki/Alan_Turing')\n",
    "\n",
    "# Step 2: Create an Agent who will perform the search\n",
    "search_agent = Agent(\n",
    "    role='Website Researcher',\n",
    "    goal='Search and extract relevant information from a specific website.',\n",
    "    verbose=True,\n",
    "    memory=True,\n",
    "    backstory='You are an expert in searching websites for the most relevant and up-to-date information.',\n",
    "    tools=[search_tool]\n",
    ")\n",
    "\n",
    "# Step 3: Define a Task for the Agent\n",
    "search_task = Task(\n",
    "    description=(\n",
    "        \"Use the provided website to find information on the topic '{topic}'. \"\n",
    "        \"Make sure to gather all the relevant data available on this site.\"\n",
    "    ),\n",
    "    expected_output='A detailed summary of the information found on the website.',\n",
    "    tools=[search_tool],\n",
    "    agent=search_agent,\n",
    ")\n",
    "\n",
    "# Step 4: Create a Crew with the agent and task\n",
    "research_crew = Crew(\n",
    "    agents=[search_agent],\n",
    "    tasks=[search_task],\n",
    "    process=Process.sequential  # Executes tasks one after the other\n",
    ")\n",
    "\n",
    "# Step 5: Kickoff the crew with specific input\n",
    "result = research_crew.kickoff(inputs={'topic': 'Artificial intelligence'})\n",
    "\n",
    "# Print the results\n",
    "print(result)\n"
   ]
  },
  {
   "cell_type": "code",
   "execution_count": null,
   "id": "7af3819b-51b2-405f-9871-68ab20e32837",
   "metadata": {},
   "outputs": [],
   "source": []
  }
 ],
 "metadata": {
  "kernelspec": {
   "display_name": "Python 3 (ipykernel)",
   "language": "python",
   "name": "python3"
  },
  "language_info": {
   "codemirror_mode": {
    "name": "ipython",
    "version": 3
   },
   "file_extension": ".py",
   "mimetype": "text/x-python",
   "name": "python",
   "nbconvert_exporter": "python",
   "pygments_lexer": "ipython3",
   "version": "3.12.4"
  }
 },
 "nbformat": 4,
 "nbformat_minor": 5
}
